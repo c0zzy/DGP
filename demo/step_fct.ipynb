{
 "cells": [
  {
   "cell_type": "code",
   "execution_count": 1,
   "metadata": {},
   "outputs": [],
   "source": [
    "from dgpsi import dgp, kernel, combine, lgp, path, emulator\n",
    "import numpy as np\n",
    "import matplotlib.pyplot as plt"
   ]
  },
  {
   "cell_type": "markdown",
   "metadata": {},
   "source": [
    "Train for a deterministic step function"
   ]
  },
  {
   "cell_type": "code",
   "execution_count": 2,
   "metadata": {},
   "outputs": [
    {
     "data": {
      "text/plain": "<matplotlib.collections.PathCollection at 0x12db9cd30>"
     },
     "execution_count": 2,
     "metadata": {},
     "output_type": "execute_result"
    },
    {
     "data": {
      "image/png": "[encoded data removed]",
      "text/plain": "<Figure size 432x288 with 1 Axes>"
     },
     "metadata": {
      "needs_background": "light"
     },
     "output_type": "display_data"
    }
   ],
   "source": [
    "#Draw some data points\n",
    "n=10\n",
    "X=np.linspace(0,1.,n)[:,None]\n",
    "f= lambda x: -1. if x<0.5 else 1.\n",
    "Y=np.array([f(x) for x in X]).reshape(-1,1)\n",
    "Xt=np.linspace(0,1.,200)[:,None]\n",
    "Yt=np.array([f(x) for x in Xt]).flatten()\n",
    "plt.plot(Xt,Yt)\n",
    "plt.scatter(X,Y,color='r')"
   ]
  },
  {
   "cell_type": "code",
   "execution_count": 3,
   "metadata": {},
   "outputs": [],
   "source": [
    "#Construct a three-layered DGP structure\n",
    "layer1=[kernel(length=np.array([1.]),name='sexp')]\n",
    "layer2=[kernel(length=np.array([1.]),name='sexp')]\n",
    "layer3=[kernel(length=np.array([1.]),name='sexp',scale_est=1)]\n",
    "all_layer=combine(layer1,layer2,layer3)\n",
    "m=dgp(X,[Y],all_layer)"
   ]
  },
  {
   "cell_type": "code",
   "execution_count": 4,
   "metadata": {},
   "outputs": [
    {
     "name": "stderr",
     "output_type": "stream",
     "text": [
      "Iteration 500: Layer 3: 100%|██████████| 500/500 [00:20<00:00, 24.75it/s]\n"
     ]
    }
   ],
   "source": [
    "#Train with 500 SEM steps\n",
    "m.train(N=500)"
   ]
  },
  {
   "cell_type": "code",
   "execution_count": 5,
   "metadata": {},
   "outputs": [],
   "source": [
    "#Export trained structure and construct an emulator object\n",
    "final_layer_obj=m.estimate()\n",
    "emu=emulator(final_layer_obj)"
   ]
  },
  {
   "cell_type": "code",
   "execution_count": 6,
   "metadata": {},
   "outputs": [],
   "source": [
    "#Make predictions over (0,1)\n",
    "z=np.linspace(0,1,300)[:,None].reshape(-1,1)\n",
    "mu,var=emu.predict(z, method='mean_var')"
   ]
  },
  {
   "cell_type": "code",
   "execution_count": 7,
   "metadata": {},
   "outputs": [
    {
     "data": {
      "text/plain": "<matplotlib.collections.PathCollection at 0x12fda9b70>"
     },
     "execution_count": 7,
     "metadata": {},
     "output_type": "execute_result"
    },
    {
     "data": {
      "image/png": "[encoded data removed]",
      "text/plain": "<Figure size 432x288 with 1 Axes>"
     },
     "metadata": {
      "needs_background": "light"
     },
     "output_type": "display_data"
    }
   ],
   "source": [
    "#Draw the predictions\n",
    "s=np.sqrt(var)\n",
    "u=mu+2*s\n",
    "l=mu-2*s\n",
    "p=plt.plot(z,mu,color='r',alpha=1,lw=1)\n",
    "p1=plt.plot(z,u,'--',color='g',lw=1)\n",
    "p1=plt.plot(z,l,'--',color='g',lw=1)\n",
    "plt.plot(Xt,Yt,color='black',lw=1)\n",
    "plt.scatter(X,Y,color='black')"
   ]
  },
  {
   "cell_type": "markdown",
   "metadata": {},
   "source": [
    "Train for a step function with noisy data"
   ]
  },
  {
   "cell_type": "code",
   "execution_count": 8,
   "metadata": {},
   "outputs": [
    {
     "data": {
      "text/plain": "<matplotlib.collections.PathCollection at 0x12fe1e400>"
     },
     "execution_count": 8,
     "metadata": {},
     "output_type": "execute_result"
    },
    {
     "data": {
      "image/png": "[encoded data removed]",
      "text/plain": "<Figure size 432x288 with 1 Axes>"
     },
     "metadata": {
      "needs_background": "light"
     },
     "output_type": "display_data"
    }
   ],
   "source": [
    "#Draw some noisy data points\n",
    "n=40\n",
    "X=np.linspace(0,1.,n)[:,None]\n",
    "f= lambda x: -1. if x<0.5 else 1.\n",
    "Y=np.array([f(x) for x in X]).reshape(-1,1) + np.random.randn(*X.shape)*0.02\n",
    "Xt=np.linspace(0,1.,200)[:,None]\n",
    "Yt=np.array([f(x) for x in Xt]).flatten()\n",
    "plt.plot(Xt,Yt)\n",
    "plt.scatter(X,Y,color='r')"
   ]
  },
  {
   "cell_type": "code",
   "execution_count": 9,
   "metadata": {},
   "outputs": [],
   "source": [
    "#Construct a three-layered DGP structure and allow nugget estimation with Matern2.5 kernel\n",
    "layer1=[kernel(length=np.array([0.5]),name='matern2.5',nugget_est=1)]\n",
    "layer2=[kernel(length=np.array([0.5]),name='matern2.5',nugget_est=1)]\n",
    "layer3=[kernel(length=np.array([0.5]),name='matern2.5', nugget_est=1, scale_est=1)]\n",
    "all_layer=combine(layer1,layer2,layer3)\n",
    "m=dgp(X,[Y],all_layer)"
   ]
  },
  {
   "cell_type": "code",
   "execution_count": 10,
   "metadata": {},
   "outputs": [
    {
     "name": "stderr",
     "output_type": "stream",
     "text": [
      "Iteration 1000: Layer 3: 100%|██████████| 1000/1000 [02:17<00:00,  7.26it/s]\n"
     ]
    }
   ],
   "source": [
    "#Train with 1000 SEM steps\n",
    "m.train(N=1000)"
   ]
  },
  {
   "cell_type": "code",
   "execution_count": 11,
   "metadata": {},
   "outputs": [],
   "source": [
    "#Export trained structure and construct an emulator object\n",
    "final_layer_obj=m.estimate()\n",
    "emu=emulator(final_layer_obj)"
   ]
  },
  {
   "cell_type": "code",
   "execution_count": 12,
   "metadata": {},
   "outputs": [],
   "source": [
    "#Make predictions over (0,1)\n",
    "z=np.linspace(0,1,100)[:,None].reshape(-1,1)\n",
    "mu,var=emu.predict(z, method='mean_var')"
   ]
  },
  {
   "cell_type": "code",
   "execution_count": 13,
   "metadata": {},
   "outputs": [
    {
     "data": {
      "text/plain": "<matplotlib.collections.PathCollection at 0x12fe5b550>"
     },
     "execution_count": 13,
     "metadata": {},
     "output_type": "execute_result"
    },
    {
     "data": {
      "image/png": "[encoded data removed]",
      "text/plain": "<Figure size 432x288 with 1 Axes>"
     },
     "metadata": {
      "needs_background": "light"
     },
     "output_type": "display_data"
    }
   ],
   "source": [
    "#Draw the predictions\n",
    "s=np.sqrt(var)\n",
    "u=mu+2*s\n",
    "l=mu-2*s\n",
    "p1=plt.plot(z,u,'--',color='g',lw=1)\n",
    "p1=plt.plot(z,l,'--',color='g',lw=1)\n",
    "p=plt.plot(z,mu,color='r',alpha=1,lw=2.5)\n",
    "plt.plot(Xt,Yt,color='black',lw=1,alpha=0.8)\n",
    "plt.scatter(X,Y,color='black',lw=0.02,alpha=0.8)"
   ]
  },
  {
   "cell_type": "code",
   "execution_count": null,
   "metadata": {},
   "outputs": [],
   "source": []
  }
 ],
 "metadata": {
  "kernelspec": {
   "display_name": "Python 3.7.3 64-bit ('DGP': pyenv)",
   "name": "python37364bitdgpvenvfe99befcf8d041dbacca512d71be1997"
  },
  "language_info": {
   "codemirror_mode": {
    "name": "ipython",
    "version": 3
   },
   "file_extension": ".py",
   "mimetype": "text/x-python",
   "name": "python",
   "nbconvert_exporter": "python",
   "pygments_lexer": "ipython3",
   "version": "3.7.3"
  },
  "metadata": {
   "interpreter": {
    "hash": "9892b5d723233871e6d74836f161489f7f0033495c7a1b99dec23d2ce2609981"
   }
  },
  "orig_nbformat": 2
 },
 "nbformat": 4,
 "nbformat_minor": 2
}